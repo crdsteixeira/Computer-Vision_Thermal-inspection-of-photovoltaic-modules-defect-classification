{
 "cells": [
  {
   "cell_type": "code",
   "execution_count": 1,
   "metadata": {
    "colab": {
     "base_uri": "https://localhost:8080/"
    },
    "executionInfo": {
     "elapsed": 6640,
     "status": "ok",
     "timestamp": 1699988723143,
     "user": {
      "displayName": "Miguel Abreu",
      "userId": "07581781345041451372"
     },
     "user_tz": 0
    },
    "id": "E05ZSUKee8QS",
    "outputId": "644e5891-c667-4c3c-875e-419d6a6783de"
   },
   "outputs": [],
   "source": [
    "#!pip3 install -U pandas matplotlib\n",
    "import matplotlib.pyplot as plt\n",
    "import tensorflow as tf\n",
    "import pandas as pd\n",
    "import numpy as np\n",
    "import seaborn as sn\n",
    "import scprep\n",
    "import glob\n",
    "import cv2\n",
    "import os"
   ]
  },
  {
   "cell_type": "code",
   "execution_count": 2,
   "metadata": {
    "executionInfo": {
     "elapsed": 3,
     "status": "ok",
     "timestamp": 1699988726975,
     "user": {
      "displayName": "Miguel Abreu",
      "userId": "07581781345041451372"
     },
     "user_tz": 0
    },
    "id": "fkLcazwVGGgn"
   },
   "outputs": [],
   "source": [
    "import torch\n",
    "import torch.nn as nn\n",
    "from torch.utils.data import DataLoader, TensorDataset\n",
    "from torchinfo import summary\n",
    "from sklearn.model_selection import train_test_split\n",
    "from sklearn.metrics import confusion_matrix\n",
    "import torchvision.transforms as transforms\n",
    "from PIL import Image"
   ]
  },
  {
   "cell_type": "code",
   "execution_count": 3,
   "metadata": {},
   "outputs": [
    {
     "name": "stdout",
     "output_type": "stream",
     "text": [
      "Device is: cuda\n"
     ]
    }
   ],
   "source": [
    "if torch.backends.mps.is_available():\n",
    "    device = torch.device(\"mps\")\n",
    "elif torch.cuda.is_available():\n",
    "    device = torch.device(\"cuda\")\n",
    "else:\n",
    "    device = torch.device(\"cpu\")\n",
    "print (\"Device is:\", device)"
   ]
  },
  {
   "cell_type": "code",
   "execution_count": 4,
   "metadata": {
    "executionInfo": {
     "elapsed": 6013,
     "status": "ok",
     "timestamp": 1699988735289,
     "user": {
      "displayName": "Miguel Abreu",
      "userId": "07581781345041451372"
     },
     "user_tz": 0
    },
    "id": "X1Z7waiIlemk"
   },
   "outputs": [],
   "source": [
    "#scprep.io.download.download_and_extract_zip(\n",
    "#    url=\"https://github.com/RaptorMaps/InfraredSolarModules/raw/master/2020-02-14_InfraredSolarModules.zip\",\n",
    "#    destination=\".\")"
   ]
  },
  {
   "cell_type": "code",
   "execution_count": 5,
   "metadata": {
    "colab": {
     "base_uri": "https://localhost:8080/"
    },
    "executionInfo": {
     "elapsed": 277,
     "status": "ok",
     "timestamp": 1699988737105,
     "user": {
      "displayName": "Miguel Abreu",
      "userId": "07581781345041451372"
     },
     "user_tz": 0
    },
    "id": "z9SdHIzGl07s",
    "outputId": "c59a39bf-bca6-47eb-9ade-7bccdb490e3d"
   },
   "outputs": [
    {
     "name": "stdout",
     "output_type": "stream",
     "text": [
      "total 3072\n",
      "drwxr-xr-x      5 mabreu  staff      160 Nov 16 15:36 \u001b[34m.\u001b[m\u001b[m/\n",
      "drwxr-xr-x     54 mabreu  staff     1728 Nov 19 17:45 \u001b[34m..\u001b[m\u001b[m/\n",
      "-rw-r--r--      1 mabreu  staff     8196 Nov 17 20:10 .DS_Store\n",
      "drwxr-xr-x  20002 mabreu  staff   640064 Nov 16 15:36 \u001b[34mimages\u001b[m\u001b[m/\n",
      "-rw-r--r--      1 mabreu  staff  1559444 Nov 16 15:36 module_metadata.json\n"
     ]
    }
   ],
   "source": [
    "%ls -la ./InfraredSolarModules/"
   ]
  },
  {
   "cell_type": "code",
   "execution_count": 4,
   "metadata": {
    "colab": {
     "base_uri": "https://localhost:8080/",
     "height": 35
    },
    "executionInfo": {
     "elapsed": 5,
     "status": "ok",
     "timestamp": 1699988739204,
     "user": {
      "displayName": "Miguel Abreu",
      "userId": "07581781345041451372"
     },
     "user_tz": 0
    },
    "id": "CElcS6IRl9Fy",
    "outputId": "afc09071-3461-4091-a1bb-8c47f665a888"
   },
   "outputs": [
    {
     "data": {
      "text/plain": [
       "'./InfraredSolarModules/'"
      ]
     },
     "execution_count": 4,
     "metadata": {},
     "output_type": "execute_result"
    }
   ],
   "source": [
    "dataset_path = \"./InfraredSolarModules/\"\n",
    "dataset_path"
   ]
  },
  {
   "cell_type": "code",
   "execution_count": 5,
   "metadata": {
    "colab": {
     "base_uri": "https://localhost:8080/"
    },
    "executionInfo": {
     "elapsed": 678,
     "status": "ok",
     "timestamp": 1699988741499,
     "user": {
      "displayName": "Miguel Abreu",
      "userId": "07581781345041451372"
     },
     "user_tz": 0
    },
    "id": "dl4sEtlal5S3",
    "outputId": "55f430d6-2d82-4a0d-b8f2-a2bf5c0d0698"
   },
   "outputs": [
    {
     "data": {
      "text/plain": [
       "20000"
      ]
     },
     "execution_count": 5,
     "metadata": {},
     "output_type": "execute_result"
    }
   ],
   "source": [
    "imgs = glob.glob(dataset_path + \"images/*.jpg\")\n",
    "len(imgs)"
   ]
  },
  {
   "cell_type": "code",
   "execution_count": 6,
   "metadata": {
    "colab": {
     "base_uri": "https://localhost:8080/",
     "height": 419
    },
    "executionInfo": {
     "elapsed": 1037,
     "status": "ok",
     "timestamp": 1699988744312,
     "user": {
      "displayName": "Miguel Abreu",
      "userId": "07581781345041451372"
     },
     "user_tz": 0
    },
    "id": "6K5Ropjil5_G",
    "outputId": "2ad78b51-4803-48f9-b383-0bc2743e8019"
   },
   "outputs": [
    {
     "data": {
      "text/plain": [
       "20000"
      ]
     },
     "execution_count": 6,
     "metadata": {},
     "output_type": "execute_result"
    }
   ],
   "source": [
    "full_df = pd.read_json(dataset_path + \"module_metadata.json\", orient='index').sort_index()\n",
    "full_df['image_filepath'] = full_df.image_filepath.apply(lambda x: os.path.join(dataset_path, x))\n",
    "len(full_df)"
   ]
  },
  {
   "cell_type": "code",
   "execution_count": 7,
   "metadata": {},
   "outputs": [
    {
     "data": {
      "text/plain": [
       "20000"
      ]
     },
     "execution_count": 7,
     "metadata": {},
     "output_type": "execute_result"
    }
   ],
   "source": [
    "# Optionally filter the DF\n",
    "##df = full_df[full_df['anomaly_class'].isin(['Diode', 'Soiling', 'Hot-Spot'])]\n",
    "#df = full_df[full_df['anomaly_class'].isin(['Cell',\n",
    "# 'Vegetation',\n",
    "# 'Diode',\n",
    "# 'Cell-Multi',\n",
    "# 'Shadowing',\n",
    "# 'Cracking',\n",
    "# 'Offline-Module',\n",
    "# 'Hot-Spot',\n",
    "# 'Hot-Spot-Multi',\n",
    "# 'Soiling',\n",
    "# 'Diode-Multi'])]\n",
    "df = full_df.copy()\n",
    "len(df)"
   ]
  },
  {
   "cell_type": "code",
   "execution_count": 8,
   "metadata": {},
   "outputs": [
    {
     "data": {
      "text/plain": [
       "Diode-Multi         175\n",
       "Soiling             204\n",
       "Hot-Spot-Multi      246\n",
       "Hot-Spot            249\n",
       "Offline-Module      827\n",
       "Cracking            940\n",
       "Shadowing          1056\n",
       "Cell-Multi         1288\n",
       "Diode              1499\n",
       "Vegetation         1639\n",
       "Cell               1877\n",
       "No-Anomaly        10000\n",
       "Name: anomaly_class, dtype: int64"
      ]
     },
     "execution_count": 8,
     "metadata": {},
     "output_type": "execute_result"
    }
   ],
   "source": [
    "df.anomaly_class.value_counts().sort_values(ascending=True)"
   ]
  },
  {
   "cell_type": "code",
   "execution_count": 9,
   "metadata": {
    "colab": {
     "base_uri": "https://localhost:8080/",
     "height": 465
    },
    "executionInfo": {
     "elapsed": 501,
     "status": "ok",
     "timestamp": 1699988747540,
     "user": {
      "displayName": "Miguel Abreu",
      "userId": "07581781345041451372"
     },
     "user_tz": 0
    },
    "id": "YxiRo0_9rBiR",
    "outputId": "c13a90d5-5239-43c6-87bb-056d5f236bb2"
   },
   "outputs": [
    {
     "data": {
      "image/png": "[encoded data removed]",
      "text/plain": [
       "<Figure size 1000x500 with 1 Axes>"
      ]
     },
     "metadata": {},
     "output_type": "display_data"
    }
   ],
   "source": [
    "ax = df.anomaly_class.value_counts().sort_values(ascending=True).plot.barh(figsize=(10,5))\n",
    "ax.set_xlabel('Number of instances')\n",
    "plt.show()"
   ]
  },
  {
   "cell_type": "code",
   "execution_count": 10,
   "metadata": {
    "colab": {
     "base_uri": "https://localhost:8080/",
     "height": 465
    },
    "executionInfo": {
     "elapsed": 540,
     "status": "ok",
     "timestamp": 1699988837306,
     "user": {
      "displayName": "Miguel Abreu",
      "userId": "07581781345041451372"
     },
     "user_tz": 0
    },
    "id": "VyZtBjZhAaYI",
    "outputId": "d1d52700-384e-4668-aeb4-559c8c1c9669"
   },
   "outputs": [
    {
     "data": {
      "image/png": "[encoded data removed]",
      "text/plain": [
       "<Figure size 1000x500 with 1 Axes>"
      ]
     },
     "metadata": {},
     "output_type": "display_data"
    }
   ],
   "source": [
    "def convert_to_binary(x):\n",
    "    x = 'Anomaly' if x != 'No-Anomaly' else x\n",
    "    return x\n",
    "\n",
    "df_binary = df.copy()\n",
    "df_binary['anomaly_class'] = df.anomaly_class.apply(convert_to_binary)\n",
    "ax = df_binary['anomaly_class'].value_counts().plot.bar(figsize=(10,5))\n",
    "ax.tick_params(labelrotation=0)\n",
    "ax.set_xlabel('Number of instances')\n",
    "plt.show()"
   ]
  },
  {
   "cell_type": "code",
   "execution_count": 11,
   "metadata": {
    "colab": {
     "base_uri": "https://localhost:8080/",
     "height": 383
    },
    "executionInfo": {
     "elapsed": 1127,
     "status": "ok",
     "timestamp": 1699988840960,
     "user": {
      "displayName": "Miguel Abreu",
      "userId": "07581781345041451372"
     },
     "user_tz": 0
    },
    "id": "oopNdoewAjqU",
    "outputId": "05fa67fd-e9e4-49ba-e0fd-51309fb837ab"
   },
   "outputs": [
    {
     "data": {
      "image/png": "[encoded data removed]",
      "text/plain": [
       "<Figure size 1500x1500 with 12 Axes>"
      ]
     },
     "metadata": {},
     "output_type": "display_data"
    }
   ],
   "source": [
    "sample = df.groupby('anomaly_class').sample()\n",
    "\n",
    "plt.figure(figsize=(15,15))\n",
    "for i, (image_path, class_name) in enumerate(sample.values, start=1):\n",
    "    image = cv2.imread(image_path, cv2.IMREAD_COLOR)\n",
    "    #image = cv2.normalize(image, None, 0, 255, cv2.NORM_MINMAX, cv2.CV_8U)\n",
    "    image = cv2.cvtColor(image, cv2.COLOR_RGB2GRAY)\n",
    "    plt.subplot(6, 6, i)\n",
    "    plt.imshow(image)\n",
    "    plt.title(class_name)\n",
    "    plt.axis('off')\n",
    "plt.show()"
   ]
  },
  {
   "cell_type": "code",
   "execution_count": 12,
   "metadata": {},
   "outputs": [],
   "source": [
    "transforms_list = transforms.Compose([\n",
    "    #transforms.ToPILImage(),\n",
    "    transforms.ToTensor(),\n",
    "    transforms.Grayscale(),\n",
    "    #transforms.Normalize(mean=(0.5), std=(0.5)),\n",
    "    #transforms.Normalize(mean=(0.0), std=(1.0)),\n",
    "])\n",
    "classes_list = df.anomaly_class.value_counts().keys().tolist()\n",
    "num_classes = len(classes_list)"
   ]
  },
  {
   "cell_type": "code",
   "execution_count": 13,
   "metadata": {},
   "outputs": [],
   "source": [
    "def process_img(path):\n",
    "    #image = cv2.imread(image_path, cv2.IMREAD_COLOR)\n",
    "    #image = cv2.normalize(image, None, 0, 255, cv2.NORM_MINMAX, cv2.CV_8U)\n",
    "    #image = cv2.cvtColor(image, cv2.COLOR_BGR2GRAY)\n",
    "    image = Image.open(path).convert('RGB')\n",
    "    image = transforms_list(image).numpy()\n",
    "    image = (image * 2.0) - 1.0\n",
    "    return image"
   ]
  },
  {
   "cell_type": "code",
   "execution_count": 14,
   "metadata": {
    "colab": {
     "base_uri": "https://localhost:8080/"
    },
    "executionInfo": {
     "elapsed": 7848,
     "status": "ok",
     "timestamp": 1699988854534,
     "user": {
      "displayName": "Miguel Abreu",
      "userId": "07581781345041451372"
     },
     "user_tz": 0
    },
    "id": "QsOoycp5JvPd",
    "outputId": "1042d0c8-60d2-41f8-9396-aa6a198a5b2b"
   },
   "outputs": [],
   "source": [
    "def create_XY(df):\n",
    "    imgs = []\n",
    "    labels = []\n",
    "    in_df = df.copy()\n",
    "    for i, (p, c) in enumerate(in_df.values):\n",
    "        image = process_img(p)\n",
    "        labels.append(classes_list.index(c))\n",
    "        imgs.append(image)\n",
    "    return torch.tensor(np.array(imgs, dtype=np.float32)), torch.tensor(np.array(labels, dtype=np.float32))"
   ]
  },
  {
   "cell_type": "code",
   "execution_count": 16,
   "metadata": {},
   "outputs": [
    {
     "data": {
      "text/plain": [
       "(torch.Size([12801, 1, 40, 24]),\n",
       " torch.Size([4000, 1, 40, 24]),\n",
       " torch.Size([3199, 1, 40, 24]))"
      ]
     },
     "execution_count": 16,
     "metadata": {},
     "output_type": "execute_result"
    }
   ],
   "source": [
    "rdm_state = 42\n",
    "\n",
    "train_df = df.groupby('anomaly_class').sample(frac=0.80, random_state=rdm_state)\n",
    "test_df = df.groupby('anomaly_class').sample(frac=0.20, random_state=rdm_state)\n",
    "val_df = train_df.groupby('anomaly_class').sample(frac=0.20, random_state=rdm_state)\n",
    "train_df = train_df.groupby('anomaly_class').sample(frac=0.80, random_state=rdm_state)\n",
    "train_df_gan = train_df.copy()\n",
    "\n",
    "max_per_class = int(train_df_gan.anomaly_class.value_counts().max())\n",
    "train_df_gan = train_df_gan.groupby('anomaly_class').sample(max_per_class, replace=True, random_state=rdm_state) # Make it balanced for training\n",
    "\n",
    "#train_df, test_df = train_test_split(df, test_size=0.20, random_state=42)\n",
    "#train_df, val_df = train_test_split(train_df, test_size=0.10, random_state=42)\n",
    "\n",
    "X_train, y_train = create_XY(train_df)\n",
    "X_train_g, y_train_g = create_XY(train_df_gan)\n",
    "X_test, y_test = create_XY(test_df)\n",
    "X_val, y_val = create_XY(val_df)\n",
    "\n",
    "X_train.shape, X_test.shape, X_val.shape, X_train_g.shape "
   ]
  },
  {
   "cell_type": "code",
   "execution_count": 19,
   "metadata": {},
   "outputs": [
    {
     "data": {
      "image/png": "[encoded data removed]",
      "text/plain": [
       "<Figure size 1000x500 with 1 Axes>"
      ]
     },
     "metadata": {},
     "output_type": "display_data"
    }
   ],
   "source": [
    "ax = train_df.anomaly_class.value_counts().sort_values(ascending=True).plot.barh(figsize=(10,5))\n",
    "ax.set_xlabel('Number of instances')\n",
    "plt.show()"
   ]
  },
  {
   "cell_type": "code",
   "execution_count": 20,
   "metadata": {},
   "outputs": [
    {
     "data": {
      "text/plain": [
       "anomaly_class\n",
       "Diode-Multi         35\n",
       "Soiling             41\n",
       "Hot-Spot-Multi      49\n",
       "Hot-Spot            50\n",
       "Offline-Module     165\n",
       "Cracking           188\n",
       "Shadowing          211\n",
       "Cell-Multi         258\n",
       "Diode              300\n",
       "Vegetation         328\n",
       "Cell               375\n",
       "No-Anomaly        2000\n",
       "Name: count, dtype: int64"
      ]
     },
     "execution_count": 20,
     "metadata": {},
     "output_type": "execute_result"
    }
   ],
   "source": [
    "ax = test_df.anomaly_class.value_counts().sort_values(ascending=True)\n",
    "ax"
   ]
  },
  {
   "cell_type": "code",
   "execution_count": 21,
   "metadata": {},
   "outputs": [
    {
     "data": {
      "text/plain": [
       "anomaly_class\n",
       "Diode-Multi         28\n",
       "Soiling             33\n",
       "Hot-Spot-Multi      39\n",
       "Hot-Spot            40\n",
       "Offline-Module     132\n",
       "Cracking           150\n",
       "Shadowing          169\n",
       "Cell-Multi         206\n",
       "Diode              240\n",
       "Vegetation         262\n",
       "Cell               300\n",
       "No-Anomaly        1600\n",
       "Name: count, dtype: int64"
      ]
     },
     "execution_count": 21,
     "metadata": {},
     "output_type": "execute_result"
    }
   ],
   "source": [
    "ax = val_df.anomaly_class.value_counts().sort_values(ascending=True)\n",
    "ax"
   ]
  },
  {
   "cell_type": "code",
   "execution_count": 22,
   "metadata": {},
   "outputs": [
    {
     "data": {
      "text/plain": [
       "(tensor(-1.), tensor(0.9998))"
      ]
     },
     "execution_count": 22,
     "metadata": {},
     "output_type": "execute_result"
    }
   ],
   "source": [
    "torch.min(X_train), torch.max(X_train)"
   ]
  },
  {
   "cell_type": "code",
   "execution_count": 23,
   "metadata": {
    "colab": {
     "base_uri": "https://localhost:8080/"
    },
    "executionInfo": {
     "elapsed": 555,
     "status": "ok",
     "timestamp": 1699990636137,
     "user": {
      "displayName": "Miguel Abreu",
      "userId": "07581781345041451372"
     },
     "user_tz": 0
    },
    "id": "-omP7uRwF8Yf",
    "outputId": "fdb82dfd-70c2-4fc9-b717-fef7cbc08b9f"
   },
   "outputs": [],
   "source": [
    "class Classificator(nn.Module):\n",
    "    def __init__(self, in_dim, out_dim):\n",
    "        super().__init__()\n",
    "        self.model = nn.Sequential(\n",
    "            # BLock 1\n",
    "            nn.Conv2d(in_dim[0], 80, 3, 1, 1),\n",
    "            nn.ReLU(),\n",
    "            nn.MaxPool2d(2, 2),\n",
    "            nn.BatchNorm2d(80),\n",
    "            # Block 2\n",
    "            nn.Conv2d(80, 160, 3, 1, 1),\n",
    "            nn.ReLU(),\n",
    "            nn.MaxPool2d(2, 2),\n",
    "            nn.BatchNorm2d(160),\n",
    "            # Block 3\n",
    "            nn.Conv2d(160, 320, 3, 1, 1),\n",
    "            nn.ReLU(),\n",
    "            nn.MaxPool2d(2, 2),\n",
    "            nn.BatchNorm2d(320),\n",
    "            # Block 4\n",
    "            nn.Conv2d(320, 640, 3, 1, 1),\n",
    "            nn.ReLU(),\n",
    "            nn.MaxPool2d(1, 2),\n",
    "            nn.BatchNorm2d(640),\n",
    "            # AVG POOL\n",
    "            nn.AvgPool2d(2),\n",
    "            # Fully connected\n",
    "            nn.Flatten(),\n",
    "            nn.Linear(640, 512),\n",
    "            nn.ReLU(),\n",
    "            nn.Linear(512, out_dim),\n",
    "            nn.Softmax(dim=1),\n",
    "        )\n",
    "\n",
    "    def forward(self, x):\n",
    "        return self.model(x)\n",
    "\n",
    "    def fit(self, X, y_target, optimizer, loss_fn=nn.CrossEntropyLoss(), epochs=10, batch_size=32, validation_data=None):\n",
    "        dataset = TensorDataset(X, y_target)\n",
    "        dataloader = DataLoader(dataset, batch_size=batch_size, shuffle=True)\n",
    "\n",
    "        for epoch in range(epochs):\n",
    "            for i, (x, y) in enumerate(dataloader):\n",
    "                #x = x.to(device)\n",
    "                #y = y.to(device)\n",
    "\n",
    "                optimizer.zero_grad()\n",
    "                y_hat = self.forward(x)\n",
    "                one_hot = nn.functional.one_hot(y.to(torch.int64), num_classes=num_classes)\n",
    "                labels = one_hot.to(torch.float32)\n",
    "                loss = loss_fn(y_hat, labels)\n",
    "                loss.backward()\n",
    "                optimizer.step()\n",
    "\n",
    "            if validation_data:\n",
    "                (x_val, y_val) = validation_data\n",
    "                #x_val = x_val.to(device)\n",
    "                #y_val = y_val.to(device)\n",
    "                with torch.no_grad():\n",
    "                    y_hat = self.forward(x_val)\n",
    "                    _, pred = torch.max(torch.softmax(y_hat, dim=1), dim=1)\n",
    "                    val_acc = torch.sum(pred == y_val).item() / y_val.shape[0]\n",
    "                print(f\"[Epoch {epoch}/{epochs}] loss: {loss.item()}, val_acc: {val_acc}\")\n",
    "            else:\n",
    "                print(f\"[Epoch {epoch}/{epochs}] loss: {loss.item()}\")"
   ]
  },
  {
   "cell_type": "code",
   "execution_count": 24,
   "metadata": {
    "colab": {
     "base_uri": "https://localhost:8080/"
    },
    "executionInfo": {
     "elapsed": 262,
     "status": "ok",
     "timestamp": 1699990639170,
     "user": {
      "displayName": "Miguel Abreu",
      "userId": "07581781345041451372"
     },
     "user_tz": 0
    },
    "id": "LpRuCSBoJTsg",
    "outputId": "13fca300-6282-4beb-e77b-0be3b14d326c"
   },
   "outputs": [
    {
     "name": "stdout",
     "output_type": "stream",
     "text": [
      "==========================================================================================\n",
      "Layer (type:depth-idx)                   Output Shape              Param #\n",
      "==========================================================================================\n",
      "Classificator                            [1, 12]                   --\n",
      "├─Sequential: 1-1                        [1, 12]                   --\n",
      "│    └─Conv2d: 2-1                       [1, 80, 40, 24]           800\n",
      "│    └─ReLU: 2-2                         [1, 80, 40, 24]           --\n",
      "│    └─MaxPool2d: 2-3                    [1, 80, 20, 12]           --\n",
      "│    └─BatchNorm2d: 2-4                  [1, 80, 20, 12]           160\n",
      "│    └─Conv2d: 2-5                       [1, 160, 20, 12]          115,360\n",
      "│    └─ReLU: 2-6                         [1, 160, 20, 12]          --\n",
      "│    └─MaxPool2d: 2-7                    [1, 160, 10, 6]           --\n",
      "│    └─BatchNorm2d: 2-8                  [1, 160, 10, 6]           320\n",
      "│    └─Conv2d: 2-9                       [1, 320, 10, 6]           461,120\n",
      "│    └─ReLU: 2-10                        [1, 320, 10, 6]           --\n",
      "│    └─MaxPool2d: 2-11                   [1, 320, 5, 3]            --\n",
      "│    └─BatchNorm2d: 2-12                 [1, 320, 5, 3]            640\n",
      "│    └─Conv2d: 2-13                      [1, 640, 5, 3]            1,843,840\n",
      "│    └─ReLU: 2-14                        [1, 640, 5, 3]            --\n",
      "│    └─MaxPool2d: 2-15                   [1, 640, 3, 2]            --\n",
      "│    └─BatchNorm2d: 2-16                 [1, 640, 3, 2]            1,280\n",
      "│    └─AvgPool2d: 2-17                   [1, 640, 1, 1]            --\n",
      "│    └─Flatten: 2-18                     [1, 640]                  --\n",
      "│    └─Linear: 2-19                      [1, 512]                  328,192\n",
      "│    └─ReLU: 2-20                        [1, 512]                  --\n",
      "│    └─Linear: 2-21                      [1, 12]                   6,156\n",
      "│    └─Softmax: 2-22                     [1, 12]                   --\n",
      "==========================================================================================\n",
      "Total params: 2,757,868\n",
      "Trainable params: 2,757,868\n",
      "Non-trainable params: 0\n",
      "Total mult-adds (Units.MEGABYTES): 84.12\n",
      "==========================================================================================\n",
      "Input size (MB): 0.00\n",
      "Forward/backward pass size (MB): 1.46\n",
      "Params size (MB): 11.03\n",
      "Estimated Total Size (MB): 12.49\n",
      "==========================================================================================\n",
      "[Epoch 0/20] loss: 2.07563853263855, val_acc: 0.3229134104407627\n",
      "[Epoch 1/20] loss: 2.0514328479766846, val_acc: 0.3347921225382932\n",
      "[Epoch 2/20] loss: 2.031954526901245, val_acc: 0.43888715223507346\n",
      "[Epoch 3/20] loss: 1.950318694114685, val_acc: 0.5054704595185996\n",
      "[Epoch 4/20] loss: 1.979915976524353, val_acc: 0.5376680212566427\n",
      "[Epoch 5/20] loss: 1.9293832778930664, val_acc: 0.543607377305408\n",
      "[Epoch 6/20] loss: 1.8420912027359009, val_acc: 0.5611128477649265\n",
      "[Epoch 7/20] loss: 1.911637544631958, val_acc: 0.6089402938418256\n",
      "[Epoch 8/20] loss: 1.7398136854171753, val_acc: 0.5948733979368552\n",
      "[Epoch 9/20] loss: 1.8713160753250122, val_acc: 0.687089715536105\n",
      "[Epoch 10/20] loss: 1.7795723676681519, val_acc: 0.6114410753360425\n",
      "[Epoch 11/20] loss: 1.790170669555664, val_acc: 0.6664582682088153\n",
      "[Epoch 12/20] loss: 1.772633671760559, val_acc: 0.6936542669584245\n",
      "[Epoch 13/20] loss: 1.7925912141799927, val_acc: 0.6561425445451704\n",
      "[Epoch 14/20] loss: 1.8684531450271606, val_acc: 0.649890590809628\n",
      "[Epoch 15/20] loss: 1.7758532762527466, val_acc: 0.6911534854642075\n",
      "[Epoch 16/20] loss: 1.7996981143951416, val_acc: 0.6420756486402001\n",
      "[Epoch 17/20] loss: 1.7657325267791748, val_acc: 0.670834635823695\n",
      "[Epoch 18/20] loss: 1.7249916791915894, val_acc: 0.6880275085964364\n",
      "[Epoch 19/20] loss: 1.8051373958587646, val_acc: 0.7033447952485151\n"
     ]
    }
   ],
   "source": [
    "model = Classificator(in_dim=X_train.shape[1:], out_dim=num_classes).to(device)\n",
    "print(summary(model, (1, X_train.shape[1], X_train.shape[2], X_train.shape[3])))\n",
    "optimizer = torch.optim.Adam(model.parameters(), lr=0.0003)\n",
    "model.fit(\n",
    "    X_train,\n",
    "    y_train,\n",
    "    optimizer,\n",
    "    epochs=20,\n",
    "    batch_size=64,\n",
    "    validation_data=(X_val, y_val),\n",
    ")"
   ]
  },
  {
   "cell_type": "code",
   "execution_count": 26,
   "metadata": {
    "colab": {
     "base_uri": "https://localhost:8080/"
    },
    "executionInfo": {
     "elapsed": 1538036,
     "status": "ok",
     "timestamp": 1699992178404,
     "user": {
      "displayName": "Miguel Abreu",
      "userId": "07581781345041451372"
     },
     "user_tz": 0
    },
    "id": "B-yGgD6AMloO",
    "outputId": "65542f16-97de-427a-da04-e2515d61c3df"
   },
   "outputs": [],
   "source": [
    "class GAugmented(nn.Module):\n",
    "    def __init__(self, img_shape, latent_dim=100, features_gen=128, features_disc=64):\n",
    "        super().__init__()\n",
    "        self.img_size = img_shape[0] * img_shape[1] * img_shape[2]\n",
    "        self.features_gen = features_gen\n",
    "        self.features_disc = features_disc\n",
    "        self.generator = self.Generator(latent_dim, img_shape, img_shape[0], features_gen, num_classes)\n",
    "        #self.generator.weight_init(mean=0.0, std=0.02)\n",
    "        self.generator.to(device)\n",
    "        self.discriminator = self.Discriminator(img_shape[0], features_disc, num_classes)\n",
    "        #self.discriminator.weight_init(mean=0.0, std=0.02)\n",
    "        self.discriminator.to(device)\n",
    "        self.lr = 0.0002\n",
    "        self.batch_size = 128\n",
    "        self.epochs = 50\n",
    "        self.latent_dim = latent_dim\n",
    "        self.img_shape = img_shape\n",
    "\n",
    "        print(summary(self.generator,\n",
    "                [(1, latent_dim, 1, 1), (1, num_classes, 1, 1)]))\n",
    "        print(summary(self.discriminator,\n",
    "                [(1, img_shape[0], img_shape[1], img_shape[2]),\n",
    "                 (1, num_classes, img_shape[1], img_shape[2])]))\n",
    "\n",
    "        # Optimizers and loss function\n",
    "        beta1 = 0.5\n",
    "        self.optimizer_g = torch.optim.Adam(self.generator.parameters(), lr=self.lr, betas=(beta1, 0.999))\n",
    "        self.optimizer_d = torch.optim.Adam(self.discriminator.parameters(), lr=self.lr, betas=(beta1, 0.999))\n",
    "        self.adversarial_loss = nn.BCELoss()\n",
    "\n",
    "    def fit(self, dataloader):\n",
    "        for epoch in range(self.epochs):\n",
    "            for i, (real_imgs, real_labels) in enumerate(dataloader):\n",
    "                self.train()\n",
    "                batch_size = real_imgs.size(0)\n",
    "\n",
    "                # Adversarial ground truths\n",
    "                #valid = torch.ones(batch_size, 1).to(device)\n",
    "                #fake = torch.zeros(batch_size, 1).to(device)\n",
    "                valid = torch.full((batch_size, 1), 0.95).to(device)\n",
    "                fake = torch.full((batch_size, 1), 0.05).to(device)\n",
    "\n",
    "                one_hot = nn.functional.one_hot(real_labels.to(torch.int64), num_classes=num_classes)\n",
    "                #l = torch.tensor(one_hot.clone().detach(), dtype=torch.float32)\n",
    "                \n",
    "                # W\n",
    "                l = one_hot.to(torch.float32)\n",
    "                l_g = l.view(batch_size, num_classes, 1, 1)\n",
    "                l_d = l.view(batch_size, num_classes)\n",
    "                l_d = l_d.repeat(real_imgs.size(2), real_imgs.size(3))\n",
    "                l_d = l_d.view(batch_size, num_classes, real_imgs.size(2), real_imgs.size(3))\n",
    "\n",
    "                #l_g = l.view(batch_size, num_classes, 1, 1).detach()\n",
    "                #l_g = (torch.rand(batch_size, 1) * num_classes).type(torch.LongTensor).squeeze()\n",
    "                #l_g = \n",
    "                #l_d = l.view(batch_size, num_classes).detach()\n",
    "                #l_d = l_d.repeat(real_imgs.size(2), real_imgs.size(3))\n",
    "                #l_d = l_d.view(batch_size, num_classes, real_imgs.size(2), real_imgs.size(3))\n",
    "                #fill = l_d\n",
    "                #f = fill[l_d]\n",
    "                #l = l.view(real_imgs.size(0)\n",
    "\n",
    "                #fill_d = torch.zeros([num_classes, num_classes, real_imgs.size(2), real_imgs.size(3)]).to(device)\n",
    "                #fill_g = torch.zeros([num_classes, num_classes, 1, 1]).to(device)\n",
    "                #for i in range(num_classes):\n",
    "                #    fill_d[i, i, :, :] = 1\n",
    "                #    fill_g[i, i, :, :] = 1\n",
    "\n",
    "                z = torch.randn(batch_size, self.latent_dim, 1, 1).to(device)\n",
    "                #z = torch.tensor(np.random.normal(0, 1, (batch_size, self.latent_dim, 1, 1)), dtype=torch.float32).to(device)\n",
    "                ##zy = (torch.rand(batch_size, 1) * num_classes).type(torch.LongTensor).squeeze()\n",
    "                \n",
    "                #zone_hot = nn.functional.one_hot(zy.to(torch.int64), num_classes=num_classes)\n",
    "                #lz = zone_hot.to(torch.float32)\n",
    "                #l_g = l.view(batch_size, num_classes, 1, 1).to(device)\n",
    "\n",
    "                #fill_yd = fill_d[real_labels.to(torch.int64)]\n",
    "                #fill_ydg = fill_d[zy.to(torch.int64)]\n",
    "                #fill_yg = fill_g[zy.to(torch.int64)]\n",
    "\n",
    "                #fill_yz = fill[zy.to(torch.int64)]\n",
    "\n",
    "                # Train Discriminator\n",
    "                self.optimizer_d.zero_grad()\n",
    "                self.discriminator.train()\n",
    "\n",
    "                gen_imgs = self.generator(z, l_g)\n",
    "                gen_res = self.discriminator(gen_imgs.detach(), l_d)\n",
    "                real_res = self.discriminator(real_imgs, l_d)\n",
    "                real_loss = self.adversarial_loss(real_res, valid)\n",
    "                fake_loss = self.adversarial_loss(gen_res, fake)\n",
    "                ##d_loss = 0.5 * (real_loss + fake_loss)\n",
    "                d_loss = real_loss + fake_loss\n",
    "                d_loss.backward()\n",
    "                self.optimizer_d.step()\n",
    "\n",
    "                # Train Generator\n",
    "                self.optimizer_g.zero_grad()\n",
    "                self.generator.train()\n",
    "\n",
    "                z = torch.randn(batch_size, self.latent_dim, 1, 1).to(device)\n",
    "                zy = (torch.rand(batch_size, 1) * num_classes).type(torch.LongTensor).squeeze().to(device)\n",
    "                one_hot = nn.functional.one_hot(zy.to(torch.int64), num_classes=num_classes)\n",
    "                l = one_hot.to(torch.float32)\n",
    "                l_g = l.view(batch_size, num_classes, 1, 1)\n",
    "                l_d = l.view(batch_size, num_classes)\n",
    "                l_d = l_d.repeat(real_imgs.size(2), real_imgs.size(3))\n",
    "                l_d = l_d.view(batch_size, num_classes, real_imgs.size(2), real_imgs.size(3))\n",
    "\n",
    "                gen_imgs = self.generator(z, l_g)\n",
    "                gen_res = self.discriminator(gen_imgs, l_d)\n",
    "                g_loss = self.adversarial_loss(gen_res, valid)\n",
    "                g_loss.backward()\n",
    "                self.optimizer_g.step()\n",
    "\n",
    "            print(f\"[Epoch {epoch}/{self.epochs}]\"\n",
    "                  f\" [D loss: {d_loss.item()}] [G loss: {g_loss.item()}]\")\n",
    "\n",
    "            if epoch % 10 == 0:\n",
    "                plt.figure(figsize=(15,15))\n",
    "                for j in range(num_classes):\n",
    "                    image = self.augment(1, j)[0].cpu().numpy()\n",
    "                    plt.subplot(6, 6, j+1)\n",
    "                    plt.imshow((image.transpose(1, 2, 0) + 1.0) / 2.0)\n",
    "                    plt.title(classes_list[j])\n",
    "                    plt.axis('off')\n",
    "                plt.show()\n",
    "\n",
    "    def augment(self, num, cat):\n",
    "        def batch(iterable, n=1):\n",
    "            l = len(iterable)\n",
    "            for ndx in range(0, l, n):\n",
    "                yield iterable[ndx:min(ndx + n, l)]\n",
    "\n",
    "        with torch.no_grad():\n",
    "            self.eval()\n",
    "            gen_imgs = []\n",
    "            for x_num in batch(range(num), n=100):\n",
    "                n = len(x_num)\n",
    "                z = torch.randn(n, self.latent_dim, 1, 1).to(device)\n",
    "                c = torch.tensor(cat).repeat(n)\n",
    "                one_hot = nn.functional.one_hot(c.to(torch.int64), num_classes=num_classes)\n",
    "                l = one_hot.to(torch.float32)\n",
    "                l_g = l.view(n, num_classes, 1, 1).to(device)\n",
    "                ##fill_g = torch.zeros([num_classes, num_classes, 1, 1]).to(device)\n",
    "                ##for i in range(num_classes):\n",
    "                ##   fill_g[i, i, :, :] = 1\n",
    "                ##fill_yg = fill_g[c.to(torch.int64)]\n",
    "                gen = self.generator(z, l_g)\n",
    "                for g in gen:\n",
    "                    gen_imgs.append(g.view(self.img_shape[0], self.img_shape[1], self.img_shape[2]))\n",
    "            return gen_imgs\n",
    "\n",
    "    class Generator(nn.Module):\n",
    "        def __init__(self, in_dim, out_shape, out_size, features, cats):\n",
    "            super().__init__()\n",
    "            self.in_dim = in_dim\n",
    "            self.out_size = out_size\n",
    "            self.out_shape = out_shape\n",
    "            self.ngf = features\n",
    "            self.cats = cats\n",
    "            #self.lx = nn.Sequential(nn.Linear(self.in_dim, self.ngf ** 2))\n",
    "            #self.ly = nn.Sequential(nn.Linear(self.cats, self.ngf ** 2))\n",
    "            self.model_x = nn.Sequential(\n",
    "                nn.Conv2d(self.in_dim, self.ngf*4, 3, stride=1, padding=1),\n",
    "                #nn.BatchNorm2d(self.ngf*8),\n",
    "                nn.LeakyReLU(0.2),\n",
    "                nn.Upsample(scale_factor=(5, 3)),\n",
    "                nn.Conv2d(self.ngf*4, self.ngf*8, 3, stride=1, padding=1),\n",
    "                nn.BatchNorm2d(self.ngf*8),\n",
    "                nn.LeakyReLU(0.2),\n",
    "\n",
    "\n",
    "\n",
    "                \n",
    "                ##nn.BatchNorm2d(self.ngf**2),\n",
    "                #nn.Upsample(scale_factor=(5, 3)),\n",
    "                #nn.Conv2d(self.in_dim, self.ngf*4, 3, stride=1, padding=1),\n",
    "                ##nn.ConvTranspose2d(self.in_dim, self.ngf*4, (5, 3), 1, 0),\n",
    "                #nn.BatchNorm2d(self.ngf*4),\n",
    "                #nn.LeakyReLU(0.2),\n",
    "            )\n",
    "            self.model_y = nn.Sequential(\n",
    "                nn.Conv2d(self.cats, self.ngf*4, 3, stride=1, padding=1),\n",
    "                #nn.BatchNorm2d(self.ngf*8),\n",
    "                nn.LeakyReLU(0.2),\n",
    "                nn.Upsample(scale_factor=(5, 3)),\n",
    "                nn.Conv2d(self.ngf*4, self.ngf*8, 3, stride=1, padding=1),\n",
    "                nn.BatchNorm2d(self.ngf*8),\n",
    "                nn.LeakyReLU(0.2),\n",
    "\n",
    "\n",
    "                \n",
    "                ##nn.BatchNorm2d(self.ngf**2),\n",
    "                #nn.Upsample(scale_factor=(5, 3)),\n",
    "                #nn.Conv2d(self.cats, self.ngf*4, 3, stride=1, padding=1),\n",
    "                ##nn.ConvTranspose2d(self.cats, self.ngf*4, (5, 3), 1, 0),\n",
    "                #nn.BatchNorm2d(self.ngf*4),\n",
    "                #nn.LeakyReLU(0.2),\n",
    "            )\n",
    "            self.model_f = nn.Sequential(\n",
    "                # Input is Zx5x3\n",
    "                #nn.Upsample(scale_factor=2),\n",
    "                nn.Conv2d(self.ngf*16, self.ngf*8, 3, stride=1, padding=1),\n",
    "                #nn.ConvTranspose2d(self.ngf*8, self.ngf*4, 4, 2, 1),\n",
    "                nn.BatchNorm2d(self.ngf*8),\n",
    "                nn.LeakyReLU(0.2),\n",
    "                # Input is Zx10x6\n",
    "                #nn.ConvTranspose2d(self.ngf*4, self.ngf*2, 4, 2, 1),\n",
    "                nn.Upsample(scale_factor=2),\n",
    "                nn.Conv2d(self.ngf*8, self.ngf*4, 3, stride=1, padding=1),\n",
    "                nn.BatchNorm2d(self.ngf*4),\n",
    "                nn.LeakyReLU(0.2),\n",
    "                # Input is Zx20x12\n",
    "                #nn.ConvTranspose2d(self.ngf*2, self.ngf, 4, 2, 1),\n",
    "                nn.Upsample(scale_factor=2),\n",
    "                nn.Conv2d(self.ngf*4, self.ngf*2, 3, stride=1, padding=1),\n",
    "                nn.BatchNorm2d(self.ngf*2),\n",
    "                nn.LeakyReLU(0.2),\n",
    "                # Input is Zx40x24\n",
    "                # Input is Zx5x3\n",
    "                nn.Upsample(scale_factor=2),\n",
    "                nn.Conv2d(self.ngf*2, self.ngf, 3, stride=1, padding=1),\n",
    "                ##nn.Conv2d(self.ngf, self.ngf, (5, 3), stride=1, padding=1),\n",
    "                #nn.ConvTranspose2d(self.ngf*8, self.ngf*4, 4, 2, 1),\n",
    "                nn.BatchNorm2d(self.ngf),\n",
    "                nn.LeakyReLU(0.2),\n",
    "                #nn.ConvTranspose2d(self.ngf, self.out_size, 3, 1, 1),\n",
    "                nn.Conv2d(self.ngf, self.out_size, 3, stride=1, padding=1),\n",
    "                nn.Tanh(),\n",
    "                # Output is Cx40x24\n",
    "            )\n",
    "\n",
    "        def weight_init(self, mean, std):\n",
    "            for m in self._modules:\n",
    "                self.normal_init(self._modules[m], mean, std)\n",
    "\n",
    "        def normal_init(self, m, mean, std):\n",
    "            if isinstance(m, nn.Sequential):\n",
    "                for l in m:\n",
    "                    if isinstance(l, nn.ConvTranspose2d) or isinstance(l, nn.Conv2d):\n",
    "                        l.weight.data.normal_(mean, std)\n",
    "                        l.bias.data.zero_()\n",
    "                        print(l)\n",
    "\n",
    "        def forward(self, z, cat):\n",
    "            #x = self.model_x(self.lx(z.view(z.size(0), -1)).view(-1, self.ngf**2, 1, 1))\n",
    "            #y = self.model_y(self.ly(cat.view(cat.size(0), -1)).view(-1, self.ngf**2, 1, 1))\n",
    "            x = self.model_x(z)\n",
    "            y = self.model_y(cat)\n",
    "            img = self.model_f(torch.cat([x, y], 1))\n",
    "            return img.view(-1, self.out_shape[0], self.out_shape[1], self.out_shape[2])\n",
    "\n",
    "    class Discriminator(nn.Module):\n",
    "        def __init__(self, in_dim, features, cats):\n",
    "            super().__init__()\n",
    "            self.in_dim = in_dim\n",
    "            self.ndf = features\n",
    "            self.cats = cats\n",
    "            self.model_x = nn.Sequential(\n",
    "                nn.Conv2d(self.in_dim, self.ndf // 2, 4, 2, 1),\n",
    "                nn.BatchNorm2d(self.ndf // 2),\n",
    "                #nn.LeakyReLU(0.2),\n",
    "                nn.ReLU(),\n",
    "            )\n",
    "            self.model_y = nn.Sequential(\n",
    "                nn.Conv2d(self.cats, self.ndf // 2, 4, 2, 1),\n",
    "                nn.BatchNorm2d(self.ndf // 2),\n",
    "                #nn.LeakyReLU(0.2),\n",
    "                nn.ReLU(),\n",
    "            )\n",
    "            self.model_f = nn.Sequential(\n",
    "                # Input is Cx40x24\n",
    "                nn.Conv2d(self.ndf, self.ndf*2, 4, 2, 1),\n",
    "                nn.BatchNorm2d(self.ndf*2),\n",
    "                #nn.LeakyReLU(0.2),\n",
    "                nn.ReLU(),\n",
    "                # Input is Zx20x12\n",
    "                nn.Conv2d(self.ndf*2, self.ndf*4, 4, 2, 1),\n",
    "                nn.BatchNorm2d(self.ndf*4),\n",
    "                #nn.LeakyReLU(0.2),\n",
    "                nn.ReLU(),\n",
    "                # Input is Zx10x6\n",
    "                nn.Conv2d(self.ndf*4, self.ndf*8, 3, 1, 1),\n",
    "                nn.BatchNorm2d(self.ndf*8),\n",
    "                #nn.LeakyReLU(0.2),\n",
    "                nn.ReLU(),\n",
    "                # Input is Zx5x3\n",
    "                ##nn.Conv2d(self.ndf*8, 1, (5, 3), 1, 0),\n",
    "                nn.Flatten(),\n",
    "                nn.Linear(self.ndf*8*5*3, 256),\n",
    "                nn.ReLU(),\n",
    "                nn.Linear(256, 64),\n",
    "                nn.ReLU(),\n",
    "                nn.Linear(64, 1),\n",
    "                nn.Dropout(0.50),\n",
    "                nn.Sigmoid(),\n",
    "            )\n",
    "\n",
    "        def weight_init(self, mean, std):\n",
    "            for m in self._modules:\n",
    "                self.normal_init(self._modules[m], mean, std)\n",
    "\n",
    "        def normal_init(self, m, mean, std):\n",
    "            if isinstance(m, nn.Sequential):\n",
    "                for l in m:\n",
    "                    if isinstance(l, nn.ConvTranspose2d) or isinstance(l, nn.Conv2d):\n",
    "                        l.weight.data.normal_(mean, std)\n",
    "                        l.bias.data.zero_()\n",
    "                        print(l)\n",
    "\n",
    "        def forward(self, x, cat):\n",
    "            x = self.model_x(x)\n",
    "            y = self.model_y(cat)\n",
    "            out = self.model_f(torch.cat([x, y], 1))\n",
    "            return out.view(out.size(0), -1)"
   ]
  },
  {
   "cell_type": "code",
   "execution_count": 27,
   "metadata": {},
   "outputs": [],
   "source": [
    "def create_XYAugmented(df, g_model=None):\n",
    "    g_imgs = []\n",
    "    g_class = []\n",
    "    imgs = []\n",
    "    labels = []\n",
    "    classes = []\n",
    "    ga_models = []\n",
    "    in_df = df.copy()\n",
    "\n",
    "    class_counts_list = in_df.anomaly_class.value_counts()\n",
    "    class_counts = max(class_counts_list) - class_counts_list\n",
    "    min_overall = min(class_counts_list) # Make it balanced for training\n",
    "\n",
    "    grouped_df = in_df.groupby('anomaly_class')\n",
    "    for i, (c, group) in enumerate(grouped_df):\n",
    "        for j, (p, c) in enumerate(group.values):\n",
    "            image = process_img(p)\n",
    "            clas = classes_list.index(c)\n",
    "            classes.append(clas)\n",
    "            imgs.append(image)\n",
    "            if j < min_overall:\n",
    "                g_class.append(clas)\n",
    "                g_imgs.append(image)\n",
    "\n",
    "    if g_model == None:\n",
    "        g_model = GAugmented(image.shape).to(device)\n",
    "        g_images = torch.tensor(np.array(g_imgs, dtype=np.float32))\n",
    "        g_classes = torch.tensor(np.array(g_class, dtype=np.float32))\n",
    "        g_images = g_images.to(device)\n",
    "        g_classes = g_classes.to(device)\n",
    "        group_dataset = TensorDataset(g_images, g_classes)\n",
    "        group_data = DataLoader(group_dataset, batch_size=g_model.batch_size, shuffle=True)\n",
    "        g_model.fit(group_data)\n",
    "\n",
    "    for i, (c, group) in enumerate(grouped_df):\n",
    "        imgs_to_gen = class_counts[c]\n",
    "        clas = classes_list.index(c)\n",
    "        if imgs_to_gen > 0:\n",
    "            g_imgs = g_model.augment(imgs_to_gen, clas)\n",
    "            for g_im in g_imgs:\n",
    "                classes.append(clas)\n",
    "                imgs.append(g_im.detach().cpu().numpy())\n",
    "\n",
    "    return imgs, classes, g_model"
   ]
  },
  {
   "cell_type": "code",
   "execution_count": null,
   "metadata": {},
   "outputs": [
    {
     "name": "stdout",
     "output_type": "stream",
     "text": [
      "==========================================================================================\n",
      "Layer (type:depth-idx)                   Output Shape              Param #\n",
      "==========================================================================================\n",
      "Generator                                [1, 1, 40, 24]            --\n",
      "├─Sequential: 1-1                        [1, 1024, 5, 3]           --\n",
      "│    └─Conv2d: 2-1                       [1, 512, 1, 1]            461,312\n",
      "│    └─LeakyReLU: 2-2                    [1, 512, 1, 1]            --\n",
      "│    └─Upsample: 2-3                     [1, 512, 5, 3]            --\n",
      "│    └─Conv2d: 2-4                       [1, 1024, 5, 3]           4,719,616\n",
      "│    └─BatchNorm2d: 2-5                  [1, 1024, 5, 3]           2,048\n",
      "│    └─LeakyReLU: 2-6                    [1, 1024, 5, 3]           --\n",
      "├─Sequential: 1-2                        [1, 1024, 5, 3]           --\n",
      "│    └─Conv2d: 2-7                       [1, 512, 1, 1]            55,808\n",
      "│    └─LeakyReLU: 2-8                    [1, 512, 1, 1]            --\n",
      "│    └─Upsample: 2-9                     [1, 512, 5, 3]            --\n",
      "│    └─Conv2d: 2-10                      [1, 1024, 5, 3]           4,719,616\n",
      "│    └─BatchNorm2d: 2-11                 [1, 1024, 5, 3]           2,048\n",
      "│    └─LeakyReLU: 2-12                   [1, 1024, 5, 3]           --\n",
      "├─Sequential: 1-3                        [1, 1, 40, 24]            --\n",
      "│    └─Conv2d: 2-13                      [1, 1024, 5, 3]           18,875,392\n",
      "│    └─BatchNorm2d: 2-14                 [1, 1024, 5, 3]           2,048\n",
      "│    └─LeakyReLU: 2-15                   [1, 1024, 5, 3]           --\n",
      "│    └─Upsample: 2-16                    [1, 1024, 10, 6]          --\n",
      "│    └─Conv2d: 2-17                      [1, 512, 10, 6]           4,719,104\n",
      "│    └─BatchNorm2d: 2-18                 [1, 512, 10, 6]           1,024\n",
      "│    └─LeakyReLU: 2-19                   [1, 512, 10, 6]           --\n",
      "│    └─Upsample: 2-20                    [1, 512, 20, 12]          --\n",
      "│    └─Conv2d: 2-21                      [1, 256, 20, 12]          1,179,904\n",
      "│    └─BatchNorm2d: 2-22                 [1, 256, 20, 12]          512\n",
      "│    └─LeakyReLU: 2-23                   [1, 256, 20, 12]          --\n",
      "│    └─Upsample: 2-24                    [1, 256, 40, 24]          --\n",
      "│    └─Conv2d: 2-25                      [1, 128, 40, 24]          295,040\n",
      "│    └─BatchNorm2d: 2-26                 [1, 128, 40, 24]          256\n",
      "│    └─LeakyReLU: 2-27                   [1, 128, 40, 24]          --\n",
      "│    └─Conv2d: 2-28                      [1, 1, 40, 24]            1,153\n",
      "│    └─Tanh: 2-29                        [1, 1, 40, 24]            --\n",
      "==========================================================================================\n",
      "Total params: 35,034,881\n",
      "Trainable params: 35,034,881\n",
      "Non-trainable params: 0\n",
      "Total mult-adds (Units.GIGABYTES): 1.28\n",
      "==========================================================================================\n",
      "Input size (MB): 0.00\n",
      "Forward/backward pass size (MB): 4.19\n",
      "Params size (MB): 140.14\n",
      "Estimated Total Size (MB): 144.33\n",
      "==========================================================================================\n",
      "==========================================================================================\n",
      "Layer (type:depth-idx)                   Output Shape              Param #\n",
      "==========================================================================================\n",
      "Discriminator                            [1, 1]                    --\n",
      "├─Sequential: 1-1                        [1, 32, 20, 12]           --\n",
      "│    └─Conv2d: 2-1                       [1, 32, 20, 12]           544\n",
      "│    └─BatchNorm2d: 2-2                  [1, 32, 20, 12]           64\n",
      "│    └─ReLU: 2-3                         [1, 32, 20, 12]           --\n",
      "├─Sequential: 1-2                        [1, 32, 20, 12]           --\n",
      "│    └─Conv2d: 2-4                       [1, 32, 20, 12]           6,176\n",
      "│    └─BatchNorm2d: 2-5                  [1, 32, 20, 12]           64\n",
      "│    └─ReLU: 2-6                         [1, 32, 20, 12]           --\n",
      "├─Sequential: 1-3                        [1, 1]                    --\n",
      "│    └─Conv2d: 2-7                       [1, 128, 10, 6]           131,200\n",
      "│    └─BatchNorm2d: 2-8                  [1, 128, 10, 6]           256\n",
      "│    └─ReLU: 2-9                         [1, 128, 10, 6]           --\n",
      "│    └─Conv2d: 2-10                      [1, 256, 5, 3]            524,544\n",
      "│    └─BatchNorm2d: 2-11                 [1, 256, 5, 3]            512\n",
      "│    └─ReLU: 2-12                        [1, 256, 5, 3]            --\n",
      "│    └─Conv2d: 2-13                      [1, 512, 5, 3]            1,180,160\n",
      "│    └─BatchNorm2d: 2-14                 [1, 512, 5, 3]            1,024\n",
      "│    └─ReLU: 2-15                        [1, 512, 5, 3]            --\n",
      "│    └─Flatten: 2-16                     [1, 7680]                 --\n",
      "│    └─Linear: 2-17                      [1, 256]                  1,966,336\n",
      "│    └─ReLU: 2-18                        [1, 256]                  --\n",
      "│    └─Linear: 2-19                      [1, 64]                   16,448\n",
      "│    └─ReLU: 2-20                        [1, 64]                   --\n",
      "│    └─Linear: 2-21                      [1, 1]                    65\n",
      "│    └─Dropout: 2-22                     [1, 1]                    --\n",
      "│    └─Sigmoid: 2-23                     [1, 1]                    --\n",
      "==========================================================================================\n",
      "Total params: 3,827,393\n",
      "Trainable params: 3,827,393\n",
      "Non-trainable params: 0\n",
      "Total mult-adds (Units.MEGABYTES): 37.04\n",
      "==========================================================================================\n",
      "Input size (MB): 0.05\n",
      "Forward/backward pass size (MB): 0.56\n",
      "Params size (MB): 15.31\n",
      "Estimated Total Size (MB): 15.92\n",
      "==========================================================================================\n",
      "[Epoch 0/50] [D loss: 1.4118237495422363] [G loss: 0.663208544254303]\n"
     ]
    },
    {
     "data": {
      "image/png": "[encoded data removed]",
      "text/plain": [
       "<Figure size 1500x1500 with 12 Axes>"
      ]
     },
     "metadata": {},
     "output_type": "display_data"
    },
    {
     "name": "stdout",
     "output_type": "stream",
     "text": [
      "[Epoch 1/50] [D loss: 1.3699638843536377] [G loss: 0.626007616519928]\n"
     ]
    }
   ],
   "source": [
    "X_aug, Y_aug, gan_model = create_XYAugmented(train_df)"
   ]
  },
  {
   "cell_type": "code",
   "execution_count": null,
   "metadata": {},
   "outputs": [],
   "source": [
    "classes_list\n",
    "# 32256"
   ]
  },
  {
   "cell_type": "code",
   "execution_count": null,
   "metadata": {},
   "outputs": [],
   "source": [
    "torch.save(gan_model.state_dict(), \"gan_model.pth\")"
   ]
  },
  {
   "cell_type": "code",
   "execution_count": null,
   "metadata": {},
   "outputs": [],
   "source": [
    "# X_aug, Y_aug, gan_model = create_XYAugmented(train_df, gan_model)"
   ]
  },
  {
   "cell_type": "code",
   "execution_count": null,
   "metadata": {},
   "outputs": [],
   "source": [
    "def create_XY_fromAug(X, Y):\n",
    "    x_in = []\n",
    "    y_in = []\n",
    "    for x in X:\n",
    "        x_in.append(np.array(x, dtype=np.float32).reshape((x.shape[-3], x.shape[-2], x.shape[-1])))\n",
    "    for y in Y:\n",
    "        y_in.append(np.array(y, dtype=np.float32))\n",
    "    x_out = np.array(x_in, dtype=np.float32)\n",
    "    y_out = np.array(y_in, dtype=np.float32)\n",
    "    return torch.tensor(x_out), torch.tensor(y_out)\n",
    "\n",
    "X_augf, Y_augf = create_XY_fromAug(X_aug, Y_aug)\n",
    "print(X_augf.shape), print(Y_augf.shape)"
   ]
  },
  {
   "cell_type": "code",
   "execution_count": null,
   "metadata": {},
   "outputs": [],
   "source": [
    "model_aug = Classificator(in_dim=X_augf.shape[1:], out_dim=num_classes).to(device)\n",
    "optimizer_aug = torch.optim.Adam(model_aug.parameters(), lr=0.0003)\n",
    "model_aug.fit(\n",
    "    X_augf,\n",
    "    Y_augf,\n",
    "    optimizer_aug,\n",
    "    epochs=20, # 150 from paper\n",
    "    batch_size=64,\n",
    "    validation_data=(X_val, y_val),\n",
    ")"
   ]
  },
  {
   "cell_type": "code",
   "execution_count": null,
   "metadata": {},
   "outputs": [],
   "source": [
    "def plot_confusion_matrix(labels, pred_labels, classes):\n",
    "    fig = plt.figure(figsize=(8, 8))\n",
    "    ax = fig.add_subplot(1, 1, 1)\n",
    "\n",
    "    # Build confusion matrix\n",
    "    cm = confusion_matrix(labels, pred_labels)\n",
    "    df_cm = pd.DataFrame(cm / np.sum(cm, axis=1)[:, None], index=classes, columns=classes)\n",
    "\n",
    "    # Plot confusion matrix using seaborn\n",
    "    sn.heatmap(df_cm, annot=True, cmap='Blues', fmt='.2f', ax=ax)\n",
    "    plt.show()"
   ]
  },
  {
   "cell_type": "code",
   "execution_count": null,
   "metadata": {},
   "outputs": [],
   "source": [
    "def plot_class_metrics(labels, pred_labels, probs, classes):\n",
    "    from sklearn.metrics import f1_score\n",
    "    from sklearn.metrics import roc_auc_score\n",
    "\n",
    "    f1s = []\n",
    "    aucs = []\n",
    "    accuracies = []\n",
    "    for i in range(len(classes)):\n",
    "        f1 = f1_score(labels, pred_labels, average=None)\n",
    "        auc = roc_auc_score(labels, probs, average=None, multi_class='ovr')\n",
    "        accuracy = np.mean(pred_labels[labels == i] == i)\n",
    "        f1s.append(np.round(f1[i], 2))\n",
    "        aucs.append(np.round(auc[i], 2))\n",
    "        accuracies.append(np.round(accuracy, 2))\n",
    "\n",
    "    df_m = pd.DataFrame({'F1-Score': f1s, 'AUC': aucs, 'Accuracy': accuracies}, index=classes)\n",
    "    ax = df_m.plot.barh(figsize=(8,8))\n",
    "    for container in ax.containers:\n",
    "        ax.bar_label(container)\n",
    "\n",
    "    plt.show()"
   ]
  },
  {
   "cell_type": "code",
   "execution_count": null,
   "metadata": {},
   "outputs": [],
   "source": [
    "with torch.no_grad():\n",
    "    y_hat_1 = model.forward(X_test)\n",
    "    y_hat_1 = torch.softmax(y_hat_1.cpu(), dim=1)\n",
    "    _, pred_1 = torch.max(y_hat_1, dim=1)\n",
    "    val_acc_1 = torch.sum(pred_1 == y_test).item() / y_test.shape[0]\n",
    "    print(\"Baseline classifier accuracy: \", val_acc_1)\n",
    "    plot_confusion_matrix(y_test, pred_1, classes_list)\n",
    "    plot_class_metrics(y_test, pred_1.numpy(), y_hat_1.numpy(), classes_list)\n",
    "\n",
    "    y_hat_2 = model_aug.forward(X_test.to(device))\n",
    "    y_hat_2 = torch.softmax(y_hat_2.cpu(), dim=1)\n",
    "    _, pred_2 = torch.max(y_hat_2, dim=1)\n",
    "    val_acc_2 = torch.sum(pred_2 == y_test).item() / y_test.shape[0]\n",
    "    print(\"GAugmented data classifier accuracy: \", val_acc_2)\n",
    "    plot_confusion_matrix(y_test, pred_2, classes_list)\n",
    "    plot_class_metrics(y_test, pred_2.numpy(), y_hat_2.numpy(), classes_list)"
   ]
  },
  {
   "cell_type": "code",
   "execution_count": null,
   "metadata": {},
   "outputs": [],
   "source": [
    "#plt.figure(figsize=(15,15))\n",
    "sample = df.groupby('anomaly_class').sample()\n",
    "\n",
    "plt.figure(figsize=(15,15))\n",
    "for i, (image_path, class_name) in enumerate(sample.values, start=1):\n",
    "#for i in range(num_classes):\n",
    "    c = classes_list.index(class_name)\n",
    "    image = gan_model.augment(1, c)[0].cpu().numpy()\n",
    "    plt.subplot(6, 6, i)\n",
    "    plt.imshow((image.transpose(1, 2, 0) + 1.0) / 2.0)\n",
    "    plt.title(classes_list[c])\n",
    "    plt.axis('off')\n",
    "plt.show()"
   ]
  },
  {
   "cell_type": "code",
   "execution_count": null,
   "metadata": {},
   "outputs": [],
   "source": [
    "sample = df.groupby('anomaly_class').sample()\n",
    "\n",
    "plt.figure(figsize=(15,15))\n",
    "for i, (image_path, class_name) in enumerate(sample.values, start=1):\n",
    "    image = cv2.imread(image_path, cv2.IMREAD_COLOR)\n",
    "    image = cv2.normalize(image, None, 0, 255, cv2.NORM_MINMAX, cv2.CV_8U)\n",
    "    image = cv2.cvtColor(image, cv2.COLOR_RGB2GRAY)\n",
    "    plt.subplot(6, 6, i)\n",
    "    plt.imshow(image)\n",
    "    plt.title(class_name)\n",
    "    plt.axis('off')\n",
    "plt.show()"
   ]
  },
  {
   "cell_type": "code",
   "execution_count": null,
   "metadata": {},
   "outputs": [],
   "source": [
    "gan_model_2 = GAugmented((1, 40, 24)).to(device)"
   ]
  },
  {
   "cell_type": "code",
   "execution_count": null,
   "metadata": {},
   "outputs": [],
   "source": [
    "gan_model_2.load_state_dict(torch.load(\"gan_model.pth\"))"
   ]
  },
  {
   "cell_type": "code",
   "execution_count": null,
   "metadata": {},
   "outputs": [],
   "source": [
    "with torch.no_grad():\n",
    "    plt.figure(figsize=(15,15))\n",
    "    for i in range(num_classes):\n",
    "        image = gan_model_2.augment(1, i)#.cpu().numpy()\n",
    "        image = np.array(image[0].cpu().numpy())\n",
    "        print(image.shape)\n",
    "        plt.subplot(6, 6, i+1)\n",
    "        plt.imshow((image.transpose(1, 2, 0) + 1.0) / 2.0)\n",
    "        plt.title(classes_list[i])\n",
    "        plt.axis('off')\n",
    "    plt.show()"
   ]
  },
  {
   "cell_type": "code",
   "execution_count": null,
   "metadata": {},
   "outputs": [],
   "source": [
    "vec = torch.tensor(nn.functional.one_hot(torch.tensor([1]), num_classes=num_classes), dtype=torch.float32)"
   ]
  },
  {
   "cell_type": "code",
   "execution_count": null,
   "metadata": {},
   "outputs": [],
   "source": [
    "fill = torch.zeros([num_classes, num_classes, 40, 24])\n",
    "for i in range(num_classes):\n",
    "    fill[i, i, :, :] = 1\n",
    "\n",
    "fill.shape"
   ]
  },
  {
   "cell_type": "code",
   "execution_count": null,
   "metadata": {},
   "outputs": [],
   "source": [
    "fill[[0, 1]]"
   ]
  },
  {
   "cell_type": "code",
   "execution_count": null,
   "metadata": {},
   "outputs": [],
   "source": []
  },
  {
   "cell_type": "code",
   "execution_count": null,
   "metadata": {},
   "outputs": [],
   "source": []
  }
 ],
 "metadata": {
  "colab": {
   "authorship_tag": "ABX9TyOvCLf7G/cnZTEpmE8zWrUl",
   "provenance": []
  },
  "kernelspec": {
   "display_name": "Python 3 (ipykernel)",
   "language": "python",
   "name": "python3"
  },
  "language_info": {
   "codemirror_mode": {
    "name": "ipython",
    "version": 3
   },
   "file_extension": ".py",
   "mimetype": "text/x-python",
   "name": "python",
   "nbconvert_exporter": "python",
   "pygments_lexer": "ipython3",
   "version": "3.10.3"
  }
 },
 "nbformat": 4,
 "nbformat_minor": 4
}
